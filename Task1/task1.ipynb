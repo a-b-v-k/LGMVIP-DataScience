{
  "nbformat": 4,
  "nbformat_minor": 0,
  "metadata": {
    "colab": {
      "name": "task1.ipynb",
      "provenance": [],
      "collapsed_sections": [
        "WqQwAgg-dkN2",
        "Cf4TO7M2dy0J",
        "yIEjpj3Qd_5H",
        "wX4V6wIFeQo9",
        "UQo1G2-seh0r",
        "KJc67wyye03b",
        "UVFmyXZ5fBfM",
        "k7OZVqkTfRr9",
        "E3IRPrN6fZMY",
        "AOid7thlfnp_",
        "Y3m0LtdXfu54"
      ]
    },
    "kernelspec": {
      "name": "python3",
      "display_name": "Python 3"
    },
    "language_info": {
      "name": "python"
    }
  },
  "cells": [
    {
      "cell_type": "markdown",
      "metadata": {
        "id": "2EHY2zHBBfSU"
      },
      "source": [
        "## NAME: VIJAY KRISHNA A B\n",
        "## POSITION: DATA SCIENCE INTERN\n"
      ]
    },
    {
      "cell_type": "markdown",
      "metadata": {
        "id": "e5-g8O-2Bui5"
      },
      "source": [
        "### TASK 1 (ADVANCED LEVEL TASK)\n",
        "### DIGIT CLASSIFICATION USING NEURAL NETWORKS FROM MNIST DATASET"
      ]
    },
    {
      "cell_type": "markdown",
      "metadata": {
        "id": "WqQwAgg-dkN2"
      },
      "source": [
        "### IMPORTING THE MODULES\n"
      ]
    },
    {
      "cell_type": "code",
      "metadata": {
        "id": "reE1Cmpv8EUC"
      },
      "source": [
        "import tensorflow as tf\n",
        "import matplotlib.pyplot as plt\n",
        "import numpy as np\n",
        "from PIL import Image\n",
        "import cv2"
      ],
      "execution_count": null,
      "outputs": []
    },
    {
      "cell_type": "markdown",
      "metadata": {
        "id": "Cf4TO7M2dy0J"
      },
      "source": [
        "### LOADING THE MNIST DATASET FROM THE KERAS LIBRARY"
      ]
    },
    {
      "cell_type": "code",
      "metadata": {
        "id": "qxNvoZe-8QOS",
        "colab": {
          "base_uri": "https://localhost:8080/"
        },
        "outputId": "01994568-87fe-4a1d-a47e-e9b86599b68e"
      },
      "source": [
        "mnist = tf.keras.datasets.mnist\n",
        "(x_train, y_train), (x_test, y_test) = mnist.load_data()"
      ],
      "execution_count": null,
      "outputs": [
        {
          "output_type": "stream",
          "name": "stdout",
          "text": [
            "Downloading data from https://storage.googleapis.com/tensorflow/tf-keras-datasets/mnist.npz\n",
            "11493376/11490434 [==============================] - 0s 0us/step\n",
            "11501568/11490434 [==============================] - 0s 0us/step\n"
          ]
        }
      ]
    },
    {
      "cell_type": "markdown",
      "metadata": {
        "id": "yIEjpj3Qd_5H"
      },
      "source": [
        "### DISPLAYING THE FIRST TRAINING IMAGE"
      ]
    },
    {
      "cell_type": "code",
      "metadata": {
        "colab": {
          "base_uri": "https://localhost:8080/",
          "height": 282
        },
        "id": "iJXkY47l9jFe",
        "outputId": "461dcd02-c4e3-43c5-f4d4-ccfc506f0ea7"
      },
      "source": [
        "plt.imshow(x_train[0], cmap='gray')\n",
        "plt.show()\n",
        "print(x_train[0].shape)"
      ],
      "execution_count": null,
      "outputs": [
        {
          "output_type": "display_data",
          "data": {
            "image/png": "[encoded data removed]",
            "text/plain": [
              "<Figure size 432x288 with 1 Axes>"
            ]
          },
          "metadata": {
            "needs_background": "light"
          }
        },
        {
          "output_type": "stream",
          "name": "stdout",
          "text": [
            "(28, 28)\n"
          ]
        }
      ]
    },
    {
      "cell_type": "markdown",
      "metadata": {
        "id": "wX4V6wIFeQo9"
      },
      "source": [
        "###NORMALIZE THE TRAINING AND TEST SET FROM (0 TO 255) TO (0 TO 1)"
      ]
    },
    {
      "cell_type": "code",
      "metadata": {
        "colab": {
          "base_uri": "https://localhost:8080/",
          "height": 265
        },
        "id": "UrHSFMz09v3l",
        "outputId": "006a31a3-695b-4240-9d96-7e9eb6d5df27"
      },
      "source": [
        "x_train = tf.keras.utils.normalize(x_train, axis=1)\n",
        "x_test = tf.keras.utils.normalize(x_test, axis=1)\n",
        "plt.imshow(x_train[0], cmap='gray')\n",
        "plt.show()"
      ],
      "execution_count": null,
      "outputs": [
        {
          "output_type": "display_data",
          "data": {
            "image/png": "[encoded data removed]",
            "text/plain": [
              "<Figure size 432x288 with 1 Axes>"
            ]
          },
          "metadata": {
            "needs_background": "light"
          }
        }
      ]
    },
    {
      "cell_type": "markdown",
      "metadata": {
        "id": "UQo1G2-seh0r"
      },
      "source": [
        "### BUILD A SEQUENTIAL MODEL AND ADD A FLATTEN LAYER TO CHANGE THE DIMENSIONS FROM 28X28 TO 1X784"
      ]
    },
    {
      "cell_type": "code",
      "metadata": {
        "id": "DqpVgqma_Vi3"
      },
      "source": [
        "model = tf.keras.models.Sequential()\n",
        "model.add(tf.keras.layers.Flatten())"
      ],
      "execution_count": null,
      "outputs": []
    },
    {
      "cell_type": "markdown",
      "metadata": {
        "id": "KJc67wyye03b"
      },
      "source": [
        "### BUILD THE INPUT AND HIDDEN LAYERS WITH 128 NEURONS"
      ]
    },
    {
      "cell_type": "code",
      "metadata": {
        "id": "BYeNdm8kARcL"
      },
      "source": [
        "model.add(tf.keras.layers.Dense(128, activation='relu'))\n",
        "model.add(tf.keras.layers.Dense(128, activation='relu'))"
      ],
      "execution_count": null,
      "outputs": []
    },
    {
      "cell_type": "markdown",
      "metadata": {
        "id": "UVFmyXZ5fBfM"
      },
      "source": [
        "### ADD THE OUTPUT LAYER WITH 10 NEURONS AND SOFTMAX ACTIVATION"
      ]
    },
    {
      "cell_type": "code",
      "metadata": {
        "id": "1dD72c0VAnzC"
      },
      "source": [
        "model.add(tf.keras.layers.Dense(10, activation=tf.nn.softmax))"
      ],
      "execution_count": null,
      "outputs": []
    },
    {
      "cell_type": "markdown",
      "metadata": {
        "id": "k7OZVqkTfRr9"
      },
      "source": [
        "### COMPILE THE MODEL WITH OPTIMIZER LOSS AND METRICS"
      ]
    },
    {
      "cell_type": "code",
      "metadata": {
        "id": "B5ME8GtrA-_7"
      },
      "source": [
        "model.compile(optimizer='adam', loss='sparse_categorical_crossentropy', metrics=['accuracy'])"
      ],
      "execution_count": null,
      "outputs": []
    },
    {
      "cell_type": "markdown",
      "metadata": {
        "id": "E3IRPrN6fZMY"
      },
      "source": [
        "### FIT THE MODEL INTO THE TRAINING DATA"
      ]
    },
    {
      "cell_type": "code",
      "metadata": {
        "id": "TTTsFfkFBW03",
        "colab": {
          "base_uri": "https://localhost:8080/"
        },
        "outputId": "d008219e-6484-4284-98cf-c914b491ae48"
      },
      "source": [
        "model.fit(x=x_train, y=y_train, epochs=10)"
      ],
      "execution_count": null,
      "outputs": [
        {
          "output_type": "stream",
          "name": "stdout",
          "text": [
            "Epoch 1/10\n",
            "1875/1875 [==============================] - 5s 2ms/step - loss: 0.2619 - accuracy: 0.9230\n",
            "Epoch 2/10\n",
            "1875/1875 [==============================] - 4s 2ms/step - loss: 0.1073 - accuracy: 0.9665\n",
            "Epoch 3/10\n",
            "1875/1875 [==============================] - 4s 2ms/step - loss: 0.0743 - accuracy: 0.9768\n",
            "Epoch 4/10\n",
            "1875/1875 [==============================] - 4s 2ms/step - loss: 0.0547 - accuracy: 0.9827\n",
            "Epoch 5/10\n",
            "1875/1875 [==============================] - 4s 2ms/step - loss: 0.0410 - accuracy: 0.9868\n",
            "Epoch 6/10\n",
            "1875/1875 [==============================] - 4s 2ms/step - loss: 0.0319 - accuracy: 0.9891\n",
            "Epoch 7/10\n",
            "1875/1875 [==============================] - 4s 2ms/step - loss: 0.0271 - accuracy: 0.9908\n",
            "Epoch 8/10\n",
            "1875/1875 [==============================] - 4s 2ms/step - loss: 0.0213 - accuracy: 0.9927\n",
            "Epoch 9/10\n",
            "1875/1875 [==============================] - 4s 2ms/step - loss: 0.0177 - accuracy: 0.9941\n",
            "Epoch 10/10\n",
            "1875/1875 [==============================] - 4s 2ms/step - loss: 0.0147 - accuracy: 0.9950\n"
          ]
        },
        {
          "output_type": "execute_result",
          "data": {
            "text/plain": [
              "<keras.callbacks.History at 0x7f8952a8ee10>"
            ]
          },
          "metadata": {},
          "execution_count": 9
        }
      ]
    },
    {
      "cell_type": "markdown",
      "metadata": {
        "id": "AOid7thlfnp_"
      },
      "source": [
        "### CALCULATE THE LOSS AND ACCURACY WITH THE TEST DATA"
      ]
    },
    {
      "cell_type": "code",
      "metadata": {
        "colab": {
          "base_uri": "https://localhost:8080/"
        },
        "id": "LjAIVo0lELrh",
        "outputId": "9879c273-6bc2-4e8f-bc43-5df0d9d55e34"
      },
      "source": [
        "test_loss, test_acc = model.evaluate(x=x_test, y=y_test)\n",
        "print(\"test loss: {}\\ntest accuracy: {}\".format(test_loss, test_acc))"
      ],
      "execution_count": null,
      "outputs": [
        {
          "output_type": "stream",
          "name": "stdout",
          "text": [
            "313/313 [==============================] - 1s 1ms/step - loss: 0.1147 - accuracy: 0.9733\n",
            "test loss: 0.11470723897218704\n",
            "test accuracy: 0.9732999801635742\n"
          ]
        }
      ]
    },
    {
      "cell_type": "markdown",
      "metadata": {
        "id": "Y3m0LtdXfu54"
      },
      "source": [
        "### PREDICT FROM AN IMAGE IN THE TEST DATASET"
      ]
    },
    {
      "cell_type": "code",
      "metadata": {
        "colab": {
          "base_uri": "https://localhost:8080/",
          "height": 265
        },
        "id": "Y-Q0BqUdCsEz",
        "outputId": "a4a13d6a-a875-4c88-f4ad-e57761f840a9"
      },
      "source": [
        "plt.imshow(x_test[0], cmap='gray')\n",
        "plt.show()"
      ],
      "execution_count": null,
      "outputs": [
        {
          "output_type": "display_data",
          "data": {
            "image/png": "[encoded data removed]",
            "text/plain": [
              "<Figure size 432x288 with 1 Axes>"
            ]
          },
          "metadata": {
            "needs_background": "light"
          }
        }
      ]
    },
    {
      "cell_type": "code",
      "metadata": {
        "colab": {
          "base_uri": "https://localhost:8080/"
        },
        "id": "L9xEmNDLDniP",
        "outputId": "460b66aa-f7f2-401b-ed68-14429c45a3e0"
      },
      "source": [
        "pred = model.predict(x=x_test)\n",
        "print(\"Predicted: \", np.argmax(pred[0]))"
      ],
      "execution_count": null,
      "outputs": [
        {
          "output_type": "stream",
          "name": "stdout",
          "text": [
            "Predicted:  7\n"
          ]
        }
      ]
    },
    {
      "cell_type": "markdown",
      "metadata": {
        "id": "nrQ6qgpE-X88"
      },
      "source": [
        "### PREDICT FROM CUSTOM IMAGE(s)\n"
      ]
    },
    {
      "cell_type": "code",
      "metadata": {
        "colab": {
          "base_uri": "https://localhost:8080/",
          "height": 265
        },
        "id": "UU3y83ev2p-M",
        "outputId": "f2641de4-b0d9-437b-da52-7fae97f4563c"
      },
      "source": [
        "img = cv2.imread('sample_data/pred1.jpg')[:, :, 0]\n",
        "plt.imshow(img, cmap = plt.cm.binary)\n",
        "plt.show()"
      ],
      "execution_count": null,
      "outputs": [
        {
          "output_type": "display_data",
          "data": {
            "image/png": "[encoded data removed]",
            "text/plain": [
              "<Figure size 432x288 with 1 Axes>"
            ]
          },
          "metadata": {
            "needs_background": "light"
          }
        }
      ]
    },
    {
      "cell_type": "code",
      "metadata": {
        "colab": {
          "base_uri": "https://localhost:8080/"
        },
        "id": "06KtCMHz-1EA",
        "outputId": "17f65b44-220c-448f-ba42-018b42b7a450"
      },
      "source": [
        "img = np.invert(np.array([img]))\n",
        "pred = model.predict(img)\n",
        "print(f\"Predicted result: {np.argmax(pred)}\")"
      ],
      "execution_count": null,
      "outputs": [
        {
          "output_type": "stream",
          "name": "stdout",
          "text": [
            "Predicted result: 2\n"
          ]
        }
      ]
    },
    {
      "cell_type": "code",
      "metadata": {
        "colab": {
          "base_uri": "https://localhost:8080/",
          "height": 265
        },
        "id": "P6pLZfUF_UrT",
        "outputId": "bd2e06de-9450-4403-bcd7-1f5637fa529e"
      },
      "source": [
        "img = cv2.imread('sample_data/pred2.jpg')[:, :, 0]\n",
        "plt.imshow(img, cmap = plt.cm.binary)\n",
        "plt.show()"
      ],
      "execution_count": null,
      "outputs": [
        {
          "output_type": "display_data",
          "data": {
            "image/png": "[encoded data removed]",
            "text/plain": [
              "<Figure size 432x288 with 1 Axes>"
            ]
          },
          "metadata": {
            "needs_background": "light"
          }
        }
      ]
    },
    {
      "cell_type": "code",
      "metadata": {
        "colab": {
          "base_uri": "https://localhost:8080/"
        },
        "id": "qXYDcYPN_u2K",
        "outputId": "ffe0ee63-dfb4-4dee-b0a3-bc2fdfe18f29"
      },
      "source": [
        "img = np.invert(np.array([img]))\n",
        "pred = model.predict(img)\n",
        "print(f\"Predicted result: {np.argmax(pred)}\")"
      ],
      "execution_count": null,
      "outputs": [
        {
          "output_type": "stream",
          "name": "stdout",
          "text": [
            "Predicted result: 9\n"
          ]
        }
      ]
    }
  ]
}